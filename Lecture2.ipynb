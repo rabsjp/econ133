{
 "cells": [
  {
   "cell_type": "markdown",
   "metadata": {},
   "source": [
    "# Demand and Supply \n",
    "## Prof. Rabanal"
   ]
  },
  {
   "cell_type": "markdown",
   "metadata": {},
   "source": [
    "* In a market, we have two type of participants. Buyers and Sellers. \n",
    "* The buyers have reservation values. That is, how much they value a widget. We will assume that this is private information for buyers.\n",
    "* The sellers produce the widget a particular (unit) cost. Once again, this is private information. \n",
    "* The traders meet in a particular market format (in class it was a double auction)"
   ]
  },
  {
   "cell_type": "code",
   "execution_count": null,
   "metadata": {},
   "outputs": [
    {
     "name": "stderr",
     "output_type": "stream",
     "text": [
      "expw1.py:8: DeprecationWarning: This function is deprecated. Please call randint(1, 10 + 1) instead\n",
      "  buyers = np.random.random_integers(min_value,max_value,players)\n",
      "expw1.py:9: DeprecationWarning: This function is deprecated. Please call randint(1, 10 + 1) instead\n",
      "  sellers = np.random.random_integers(min_value,max_value,players)\n"
     ]
    },
    {
     "name": "stdout",
     "output_type": "stream",
     "text": [
      "--  -  -\n",
      " 1  1  0\n",
      " 2  1  1\n",
      " 3  0  0\n",
      " 4  2  3\n",
      " 5  0  1\n",
      " 6  0  1\n",
      " 7  3  1\n",
      " 8  0  1\n",
      " 9  0  0\n",
      "10  1  0\n",
      "--  -  -\n"
     ]
    },
    {
     "data": {
      "image/png": "[encoded data removed]",
      "text/plain": [
       "<matplotlib.figure.Figure at 0x10efa4ed0>"
      ]
     },
     "metadata": {},
     "output_type": "display_data"
    }
   ],
   "source": [
    "%matplotlib inline\n",
    "%run expw1.py"
   ]
  },
  {
   "cell_type": "markdown",
   "metadata": {},
   "source": [
    "* The demand is downward sloping. The person that highly value the good is also willing to buy at a lower price. Thus, when prices go down, then the number of buyers increases. Aka *law of demand*. \n",
    "\n",
    "* The supply is upward sloping. The idea is very similar to the demand curve. As prices go up, the low cost sellers are more than happy to sell their units to the market. The different level of costs are driven by technology. We assume that some sellers are more efficient at producing the widget, therefore they have a lower (unit) cost. \n",
    "\n",
    "* Assume that prices are high, let's say around 10. In this situation, the quantity of demand falls short compared to the supply. There are sellers than are not doing well because they are not selling their widget. Of course, they can do better by cutting prices. \n",
    "\n",
    "* Assume that prices are extremley low. let's say around 1. Now, we see that the quantity of demand surpasses the quantity of supply. There are unhappy buyers that cannot get the widget. They can get if they decide to bid at a high price. \n",
    "\n",
    "* Traders will not have any incentive to move when the demand and supply intersects. Given that we are working with discrete numbers, you will see that there is a range of prices (or quantity) in which both demand and supply intersects. The traders that are at the left of the intersectation are the *intra-marginal traders*. The traders at  the intersectation are the *marginal traders*. The traders at the right of the intersaction are the *extra-marginal* traders. The marginal traders are the ones that actually are key to describe the equilibrium. Sadly, the extra marginal traders are the ones that do not participate in the market. They have too high (low) cost (values). On the other hand, there are traders that are doing pretty well. The ones that have extremely high (low) values (cost). Specifically, we can compute the benefit or profit ($\\pi$) for each trader as follows: \n",
    "\n",
    "    * $\\pi^{\\mbox{seller}} =$ price - cost \n",
    "    * $\\pi^{\\mbox{buyer}} =$ value - price\n",
    "\n",
    "* We will denote as $p^*$, the market clearing price. At that price, the excess of demand (or supply) is equal to zero, and the overall profit is maximize. There is no way that the aggregate profit (for all traders) is higher than this. Why? Assume a lower price or lower quantity. Points on the left are unfeasible because it is more expensive to produce the goods for what the buyers are willing to pay. \n",
    "\n",
    "* Exercise: \n",
    "    1. What is the *total* profit for buyers? \n",
    "    1. What is the *total* profit for sellers? \n",
    "    \n"
   ]
  },
  {
   "cell_type": "markdown",
   "metadata": {
    "collapsed": true
   },
   "source": [
    "## A brief note about efficiency and distribution\n",
    "\n",
    "* Look at the three graphs below. Assume that now the widget market is a housing market. Illustrate where (i) the median household and (ii) Apple employees will be located in our demand-supply graph. \n",
    "\n",
    "* Why some markets have a dilemma between efficiency and distribution? \n",
    "\n",
    "![IMAGE ALT TEXT HERE](wsjart.jpg)\n",
    "\n",
    "![IMAGE ALT TEXT HERE](mein.png)\n",
    "\n",
    "![IMAGE ALT TEXT HERE](networth.png)\n",
    "\n",
    "\n"
   ]
  },
  {
   "cell_type": "code",
   "execution_count": 3,
   "metadata": {},
   "outputs": [
    {
     "data": {
      "text/html": [
       "<link href='http://fonts.googleapis.com/css?family=Alegreya+Sans:100,300,400,500,700,800,900,100italic,300italic,400italic,500italic,700italic,800italic,900italic' rel='stylesheet' type='text/css'>\n",
       "<link href='http://fonts.googleapis.com/css?family=Arvo:400,700,400italic' rel='stylesheet' type='text/css'>\n",
       "<link href='http://fonts.googleapis.com/css?family=PT+Mono' rel='stylesheet' type='text/css'>\n",
       "<link href='http://fonts.googleapis.com/css?family=Shadows+Into+Light' rel='stylesheet' type='text/css'>\n",
       "<link href='http://fonts.googleapis.com/css?family=Nixie+One' rel='stylesheet' type='text/css'>\n",
       "<link href='https://fonts.googleapis.com/css?family=Source+Code+Pro' rel='stylesheet' type='text/css'>\n",
       "<style>\n",
       "\n",
       "@font-face {\n",
       "    font-family: \"Computer Modern\";\n",
       "    src: url('http://mirrors.ctan.org/fonts/cm-unicode/fonts/otf/cmunss.otf');\n",
       "}\n",
       "\n",
       "#notebook_panel { /* main background */\n",
       "    background: rgb(245,245,245);\n",
       "}\n",
       "\n",
       "div.cell { /* set cell width */\n",
       "    width: 750px;\n",
       "}\n",
       "\n",
       "div #notebook { /* centre the content */\n",
       "    background: #fff; /* white background for content */\n",
       "    width: 1000px;\n",
       "    margin: auto;\n",
       "    padding-left: 0em;\n",
       "}\n",
       "\n",
       "#notebook li { /* More space between bullet points */\n",
       "    margin-top:0.8em;\n",
       "}\n",
       "\n",
       "/* draw border around running cells */\n",
       "div.cell.border-box-sizing.code_cell.running { \n",
       "    border: 1px solid #111;\n",
       "}\n",
       "\n",
       "/* Put a solid color box around each cell and its output, visually linking them*/\n",
       "div.cell.code_cell {\n",
       "    background-color: rgb(256,256,256); \n",
       "    border-radius: 0px; \n",
       "    padding: 0.5em;\n",
       "    margin-left:1em;\n",
       "    margin-top: 1em;\n",
       "}\n",
       "\n",
       "div.text_cell_render{\n",
       "    font-family: 'Alegreya Sans' sans-serif;\n",
       "    line-height: 140%;\n",
       "    font-size: 125%;\n",
       "    font-weight: 400;\n",
       "    width:600px;\n",
       "    margin-left:auto;\n",
       "    margin-right:auto;\n",
       "}\n",
       "\n",
       "\n",
       "/* Formatting for header cells */\n",
       ".text_cell_render h1 {\n",
       "    font-family: 'Nixie One', serif;\n",
       "    font-style:regular;\n",
       "    font-weight: 400;    \n",
       "    font-size: 45pt;\n",
       "    line-height: 100%;\n",
       "    color: rgb(0,51,102);\n",
       "    margin-bottom: 0.5em;\n",
       "    margin-top: 0.5em;\n",
       "    display: block;\n",
       "}\n",
       "\n",
       ".text_cell_render h2 {\n",
       "    font-family: 'Nixie One', serif;\n",
       "    font-weight: 400;\n",
       "    font-size: 30pt;\n",
       "    line-height: 100%;\n",
       "    color: rgb(0,51,102);\n",
       "    margin-bottom: 0.1em;\n",
       "    margin-top: 0.3em;\n",
       "    display: block;\n",
       "}\t\n",
       "\n",
       ".text_cell_render h3 {\n",
       "    font-family: 'Nixie One', serif;\n",
       "    margin-top:16px;\n",
       "    font-size: 22pt;\n",
       "    font-weight: 600;\n",
       "    margin-bottom: 3px;\n",
       "    font-style: regular;\n",
       "    color: rgb(102,102,0);\n",
       "}\n",
       "\n",
       ".text_cell_render h4 {    /*Use this for captions*/\n",
       "    font-family: 'Nixie One', serif;\n",
       "    font-size: 14pt;\n",
       "    text-align: center;\n",
       "    margin-top: 0em;\n",
       "    margin-bottom: 2em;\n",
       "    font-style: regular;\n",
       "}\n",
       "\n",
       ".text_cell_render h5 {  /*Use this for small titles*/\n",
       "    font-family: 'Nixie One', sans-serif;\n",
       "    font-weight: 400;\n",
       "    font-size: 16pt;\n",
       "    color: rgb(163,0,0);\n",
       "    font-style: italic;\n",
       "    margin-bottom: .1em;\n",
       "    margin-top: 0.8em;\n",
       "    display: block;\n",
       "}\n",
       "\n",
       ".text_cell_render h6 { /*use this for copyright note*/\n",
       "    font-family: 'PT Mono', sans-serif;\n",
       "    font-weight: 300;\n",
       "    font-size: 9pt;\n",
       "    line-height: 100%;\n",
       "    color: grey;\n",
       "    margin-bottom: 1px;\n",
       "    margin-top: 1px;\n",
       "}\n",
       "\n",
       ".CodeMirror{\n",
       "    font-family: \"Source Code Pro\";\n",
       "    font-size: 90%;\n",
       "}\n",
       "\n",
       ".alert-box {\n",
       "    padding:10px 10px 10px 36px;\n",
       "    margin:5px;\n",
       "}\n",
       "\n",
       ".success {\n",
       "    color:#666600;\n",
       "    background:rgb(240,242,229);\n",
       "}\n",
       "</style>\n",
       "<script>\n",
       "    MathJax.Hub.Config({\n",
       "                        TeX: {\n",
       "                           extensions: [\"AMSmath.js\"],\n",
       "                           equationNumbers: { autoNumber: \"AMS\", useLabelIds: true}\n",
       "                           },\n",
       "                tex2jax: {\n",
       "                    inlineMath: [ ['$','$'], [\"\\\\(\",\"\\\\)\"] ],\n",
       "                    displayMath: [ ['$$','$$'], [\"\\\\[\",\"\\\\]\"] ]\n",
       "                },\n",
       "                displayAlign: 'center', // Change this to 'center' to center equations.\n",
       "                \"HTML-CSS\": {\n",
       "                    styles: {'.MathJax_Display': {\"margin\": 4}}\n",
       "                }\n",
       "        });\n",
       "</script>\n"
      ],
      "text/plain": [
       "<IPython.core.display.HTML object>"
      ]
     },
     "execution_count": 3,
     "metadata": {},
     "output_type": "execute_result"
    }
   ],
   "source": [
    "from IPython.core.display import HTML\n",
    "def css_styling():\n",
    "    styles = open(\"/Users/jrabanal/PycharmProjects/econ101/custom.css\", \"r\").read()\n",
    "    return HTML(styles)\n",
    "css_styling()"
   ]
  },
  {
   "cell_type": "code",
   "execution_count": null,
   "metadata": {
    "collapsed": true
   },
   "outputs": [],
   "source": []
  }
 ],
 "metadata": {
  "kernelspec": {
   "display_name": "Python 2",
   "language": "python",
   "name": "python2"
  },
  "language_info": {
   "codemirror_mode": {
    "name": "ipython",
    "version": 2
   },
   "file_extension": ".py",
   "mimetype": "text/x-python",
   "name": "python",
   "nbconvert_exporter": "python",
   "pygments_lexer": "ipython2",
   "version": "2.7.10"
  }
 },
 "nbformat": 4,
 "nbformat_minor": 1
}
