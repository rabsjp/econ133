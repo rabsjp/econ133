{
 "cells": [
  {
   "cell_type": "markdown",
   "metadata": {},
   "source": [
    "# Problem Set 1 [AK]\n",
    "## Prof. JP Rabanal TA. C Harney"
   ]
  },
  {
   "cell_type": "code",
   "execution_count": 1,
   "metadata": {},
   "outputs": [
    {
     "name": "stdout",
     "output_type": "stream",
     "text": [
      "Populating the interactive namespace from numpy and matplotlib\n"
     ]
    },
    {
     "data": {
      "image/png": "[encoded data removed]",
      "text/plain": [
       "<matplotlib.figure.Figure at 0x106d7a210>"
      ]
     },
     "metadata": {},
     "output_type": "display_data"
    }
   ],
   "source": [
    "%pylab inline\n",
    "import numpy as np\n",
    "nbuyers = np.array([0,2,0,1,0,1,2,1,0,3]) # number of buyers according to values. Values start at 1\n",
    "nsellers = np.array([3,2,1,0,3,0,0,0,0,0])# number of selles according to cost. Cost start at 1\n",
    "values = np.arange(1,10+1,1) #values or costs\n",
    "demand = np.cumsum(nbuyers[::-1]) # Note that demand starts from high values\n",
    "demand_draw = np.insert(demand,0,0)\n",
    "supply = np.cumsum(nsellers)\n",
    "supply_draw = np.insert(supply,0,0)\n",
    "wtp = np.insert(values[::-1],0,10)\n",
    "cost = np.insert(values,0,1)\n",
    "plt.figure()\n",
    "plt.step(demand_draw,wtp,label=('Demand'))\n",
    "plt.step(supply_draw,cost,label=('Supply'))\n",
    "plt.legend()\n",
    "plt.xlabel('traders')\n",
    "plt.axis([0, 10, 0, 11])\n",
    "\n",
    "plt.show()\n",
    "\n"
   ]
  },
  {
   "cell_type": "markdown",
   "metadata": {},
   "source": [
    "- The price that clears the market is $p^*=5$ and the quantity transacted is $q^*=7$"
   ]
  },
  {
   "cell_type": "markdown",
   "metadata": {},
   "source": [
    "- To compute the consumer surplus (CS) we need to substract the values minus the prices and multiply them by number of buyers. That is, \n",
    "\n",
    "\n",
    "\\begin{equation}\n",
    "CS = \\sum (values - price) \\times \\text{Number of buyers}\n",
    "\\end{equation}\n",
    "\n",
    "\\begin{equation}\n",
    "CS = (10-5)\\times 3 + (8-5)\\times 1 + (7-5)\\times 2 + ... = 23\n",
    "\\end{equation}\n",
    "\n",
    "- To compute the producer surplus (PS) we need to calculate the area below the market price and above the supply curve. That is, \n",
    "\n",
    "\\begin{equation}\n",
    "PS = \\sum (price - values) \\times \\text{Number of sellers}\n",
    "\\end{equation}\n",
    "\n",
    "\\begin{equation}\n",
    "PS = (5-1)\\times 3 \\dots = 20\n",
    "\\end{equation}\n",
    "\n",
    "- To find the total surplus we need to add the consumer and producer surplus.\n",
    "\n",
    "\\begin{equation}\n",
    "TS =(CS + PS)\n",
    "\\end{equation}\n",
    "\n",
    "\\begin{equation}\n",
    "43 = (23+20)\n",
    "\\end{equation}    "
   ]
  },
  {
   "cell_type": "code",
   "execution_count": 3,
   "metadata": {},
   "outputs": [
    {
     "name": "stdout",
     "output_type": "stream",
     "text": [
      "(23, 20)\n"
     ]
    }
   ],
   "source": [
    "cs = (values[::-1]-5)*nbuyers[::-1]\n",
    "cs = np.sum(cs[cs>0])\n",
    "ps = (5-values)*nsellers\n",
    "ps = np.sum(ps[ps>0])\n",
    "\n",
    "print(cs,ps)\n"
   ]
  },
  {
   "cell_type": "code",
   "execution_count": 7,
   "metadata": {},
   "outputs": [
    {
     "data": {
      "image/png": "[encoded data removed]",
      "text/plain": [
       "<matplotlib.figure.Figure at 0x108290b50>"
      ]
     },
     "metadata": {},
     "output_type": "display_data"
    }
   ],
   "source": [
    "values_buyers = np.arange(1,10+1,1)*.5\n",
    "\n",
    "value_sellers = np.arange(1,10+1,1)*1.5\n",
    "\n",
    "wtp_new = np.insert(values_buyers[::-1],0,10)\n",
    "cost_new = np.insert(value_sellers,0,1)\n",
    "plt.figure()\n",
    "plt.step(demand_draw,wtp_new,label=('Demand'))\n",
    "plt.step(supply_draw,cost_new,label=('Supply'))\n",
    "plt.legend()\n",
    "plt.xlabel('traders')\n",
    "plt.axis([0, 10, 0, 11])\n",
    "\n",
    "plt.show()\n",
    "\n",
    "\n"
   ]
  },
  {
   "cell_type": "markdown",
   "metadata": {},
   "source": [
    "We can see the transactions dropped to 5 and prices to 3.5. There are two traders that are out of the market (extra-marginal traders) which will make a transaction if they bid/ask their true value/cost. Once, they do that, we go back to our previous graph. It should be clear that $CS+PS$ is much smaller compared to before. Compare the size of the regions on the lelf of the respective equilibrium. More formally, you should get: \n",
    "\n",
    "\\begin{equation}\n",
    "CS = (5-3.5)\\times 3 + (4-3.5)\\times 1 + (3.5-3.5)\\times 2 \n",
    "\\end{equation}\n",
    "\n",
    "\\begin{equation}\n",
    "PS = \n",
    "\\end{equation}\n",
    "\n"
   ]
  },
  {
   "cell_type": "code",
   "execution_count": 13,
   "metadata": {},
   "outputs": [
    {
     "name": "stdout",
     "output_type": "stream",
     "text": [
      "The Total Surplus is 15.0\n"
     ]
    }
   ],
   "source": [
    "cs_new = (values_buyers[::-1]-5)*nbuyers[::-1]\n",
    "cs_new = np.sum(cs_new[cs_new>0])\n",
    "ps_new = (5-value_sellers)*nsellers\n",
    "ps_new = np.sum(ps_new[ps_new>0])\n",
    "\n",
    "print \"The Total Surplus is\", cs_new+ps_new\n",
    "\n"
   ]
  },
  {
   "cell_type": "markdown",
   "metadata": {},
   "source": [
    "Factors that cause a shift in demand: Income, expectations and tastes.\n",
    "\n",
    "Factors that cause a shift in supply: Technological innovations, entry or exit of firms, and changes in opportunity costs."
   ]
  },
  {
   "cell_type": "code",
   "execution_count": 5,
   "metadata": {},
   "outputs": [
    {
     "data": {
      "text/html": [
       "<link href='http://fonts.googleapis.com/css?family=Alegreya+Sans:100,300,400,500,700,800,900,100italic,300italic,400italic,500italic,700italic,800italic,900italic' rel='stylesheet' type='text/css'>\n",
       "<link href='http://fonts.googleapis.com/css?family=Arvo:400,700,400italic' rel='stylesheet' type='text/css'>\n",
       "<link href='http://fonts.googleapis.com/css?family=PT+Mono' rel='stylesheet' type='text/css'>\n",
       "<link href='http://fonts.googleapis.com/css?family=Shadows+Into+Light' rel='stylesheet' type='text/css'>\n",
       "<link href='http://fonts.googleapis.com/css?family=Nixie+One' rel='stylesheet' type='text/css'>\n",
       "<link href='https://fonts.googleapis.com/css?family=Source+Code+Pro' rel='stylesheet' type='text/css'>\n",
       "<style>\n",
       "\n",
       "@font-face {\n",
       "    font-family: \"Computer Modern\";\n",
       "    src: url('http://mirrors.ctan.org/fonts/cm-unicode/fonts/otf/cmunss.otf');\n",
       "}\n",
       "\n",
       "#notebook_panel { /* main background */\n",
       "    background: rgb(245,245,245);\n",
       "}\n",
       "\n",
       "div.cell { /* set cell width */\n",
       "    width: 750px;\n",
       "}\n",
       "\n",
       "div #notebook { /* centre the content */\n",
       "    background: #fff; /* white background for content */\n",
       "    width: 1000px;\n",
       "    margin: auto;\n",
       "    padding-left: 0em;\n",
       "}\n",
       "\n",
       "#notebook li { /* More space between bullet points */\n",
       "    margin-top:0.8em;\n",
       "}\n",
       "\n",
       "/* draw border around running cells */\n",
       "div.cell.border-box-sizing.code_cell.running { \n",
       "    border: 1px solid #111;\n",
       "}\n",
       "\n",
       "/* Put a solid color box around each cell and its output, visually linking them*/\n",
       "div.cell.code_cell {\n",
       "    background-color: rgb(256,256,256); \n",
       "    border-radius: 0px; \n",
       "    padding: 0.5em;\n",
       "    margin-left:1em;\n",
       "    margin-top: 1em;\n",
       "}\n",
       "\n",
       "div.text_cell_render{\n",
       "    font-family: 'Alegreya Sans' sans-serif;\n",
       "    line-height: 140%;\n",
       "    font-size: 125%;\n",
       "    font-weight: 400;\n",
       "    width:600px;\n",
       "    margin-left:auto;\n",
       "    margin-right:auto;\n",
       "}\n",
       "\n",
       "\n",
       "/* Formatting for header cells */\n",
       ".text_cell_render h1 {\n",
       "    font-family: 'Nixie One', serif;\n",
       "    font-style:regular;\n",
       "    font-weight: 400;    \n",
       "    font-size: 45pt;\n",
       "    line-height: 100%;\n",
       "    color: rgb(0,51,102);\n",
       "    margin-bottom: 0.5em;\n",
       "    margin-top: 0.5em;\n",
       "    display: block;\n",
       "}\n",
       "\n",
       ".text_cell_render h2 {\n",
       "    font-family: 'Nixie One', serif;\n",
       "    font-weight: 400;\n",
       "    font-size: 30pt;\n",
       "    line-height: 100%;\n",
       "    color: rgb(0,51,102);\n",
       "    margin-bottom: 0.1em;\n",
       "    margin-top: 0.3em;\n",
       "    display: block;\n",
       "}\t\n",
       "\n",
       ".text_cell_render h3 {\n",
       "    font-family: 'Nixie One', serif;\n",
       "    margin-top:16px;\n",
       "    font-size: 22pt;\n",
       "    font-weight: 600;\n",
       "    margin-bottom: 3px;\n",
       "    font-style: regular;\n",
       "    color: rgb(102,102,0);\n",
       "}\n",
       "\n",
       ".text_cell_render h4 {    /*Use this for captions*/\n",
       "    font-family: 'Nixie One', serif;\n",
       "    font-size: 14pt;\n",
       "    text-align: center;\n",
       "    margin-top: 0em;\n",
       "    margin-bottom: 2em;\n",
       "    font-style: regular;\n",
       "}\n",
       "\n",
       ".text_cell_render h5 {  /*Use this for small titles*/\n",
       "    font-family: 'Nixie One', sans-serif;\n",
       "    font-weight: 400;\n",
       "    font-size: 16pt;\n",
       "    color: rgb(163,0,0);\n",
       "    font-style: italic;\n",
       "    margin-bottom: .1em;\n",
       "    margin-top: 0.8em;\n",
       "    display: block;\n",
       "}\n",
       "\n",
       ".text_cell_render h6 { /*use this for copyright note*/\n",
       "    font-family: 'PT Mono', sans-serif;\n",
       "    font-weight: 300;\n",
       "    font-size: 9pt;\n",
       "    line-height: 100%;\n",
       "    color: grey;\n",
       "    margin-bottom: 1px;\n",
       "    margin-top: 1px;\n",
       "}\n",
       "\n",
       ".CodeMirror{\n",
       "    font-family: \"Source Code Pro\";\n",
       "    font-size: 90%;\n",
       "}\n",
       "\n",
       ".alert-box {\n",
       "    padding:10px 10px 10px 36px;\n",
       "    margin:5px;\n",
       "}\n",
       "\n",
       ".success {\n",
       "    color:#666600;\n",
       "    background:rgb(240,242,229);\n",
       "}\n",
       "</style>\n",
       "<script>\n",
       "    MathJax.Hub.Config({\n",
       "                        TeX: {\n",
       "                           extensions: [\"AMSmath.js\"],\n",
       "                           equationNumbers: { autoNumber: \"AMS\", useLabelIds: true}\n",
       "                           },\n",
       "                tex2jax: {\n",
       "                    inlineMath: [ ['$','$'], [\"\\\\(\",\"\\\\)\"] ],\n",
       "                    displayMath: [ ['$$','$$'], [\"\\\\[\",\"\\\\]\"] ]\n",
       "                },\n",
       "                displayAlign: 'center', // Change this to 'center' to center equations.\n",
       "                \"HTML-CSS\": {\n",
       "                    styles: {'.MathJax_Display': {\"margin\": 4}}\n",
       "                }\n",
       "        });\n",
       "</script>\n"
      ],
      "text/plain": [
       "<IPython.core.display.HTML object>"
      ]
     },
     "execution_count": 5,
     "metadata": {},
     "output_type": "execute_result"
    }
   ],
   "source": [
    "from IPython.core.display import HTML\n",
    "def css_styling():\n",
    "    import os\n",
    "    styles = open(os.path.expanduser(\"custom.css\"), \"r\").read()\n",
    "    return HTML(styles)\n",
    "css_styling()"
   ]
  },
  {
   "cell_type": "code",
   "execution_count": null,
   "metadata": {
    "collapsed": true
   },
   "outputs": [],
   "source": []
  }
 ],
 "metadata": {
  "kernelspec": {
   "display_name": "Python 2",
   "language": "python",
   "name": "python2"
  },
  "language_info": {
   "codemirror_mode": {
    "name": "ipython",
    "version": 2
   },
   "file_extension": ".py",
   "mimetype": "text/x-python",
   "name": "python",
   "nbconvert_exporter": "python",
   "pygments_lexer": "ipython2",
   "version": "2.7.10"
  }
 },
 "nbformat": 4,
 "nbformat_minor": 2
}
